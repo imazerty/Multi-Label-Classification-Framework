{
 "cells": [
  {
   "cell_type": "code",
   "execution_count": 1,
   "metadata": {},
   "outputs": [
    {
     "name": "stdout",
     "output_type": "stream",
     "text": [
      "[nltk_data] Downloading package reuters to /Users/monk/nltk_data...\n",
      "[nltk_data]   Package reuters is already up-to-date!\n"
     ]
    },
    {
     "name": "stderr",
     "output_type": "stream",
     "text": [
      "100%|██████████| 10788/10788 [00:01<00:00, 5529.62it/s]\n",
      "100%|██████████| 10788/10788 [00:14<00:00, 757.03it/s]\n",
      "100%|██████████| 10788/10788 [00:05<00:00, 2120.94it/s]\n"
     ]
    }
   ],
   "source": [
    "from data import *\n",
    "x,y = get_raw_data()\n",
    "x = lower_case(x)\n",
    "x = chunk(x,150)\n",
    "x = preproces(x)\n",
    "x = steamit(x)\n",
    "x = stopit_dude(x)"
   ]
  },
  {
   "cell_type": "code",
   "execution_count": 2,
   "metadata": {},
   "outputs": [],
   "source": [
    "df = labels_to_dataframe(x,y)\n",
    "ration_data, freq_list = keep_labels(df, keep_ratio = 0.25, freq_Value = False)"
   ]
  },
  {
   "cell_type": "code",
   "execution_count": 3,
   "metadata": {},
   "outputs": [],
   "source": [
    "#train test split\n",
    "import numpy as np"
   ]
  },
  {
   "cell_type": "code",
   "execution_count": 6,
   "metadata": {},
   "outputs": [],
   "source": [
    "#tf-idf vectors\n",
    "\n",
    "ration_data_text = list(ration_data['text'])[:100]\n",
    "labels           = np.array(ration_data.drop('text', 1))[:100]"
   ]
  },
  {
   "cell_type": "code",
   "execution_count": 7,
   "metadata": {},
   "outputs": [],
   "source": [
    "#split the data\n",
    "\n",
    "X_train, X_val, y_train, y_val = split_data(ration_data_text,labels)"
   ]
  },
  {
   "cell_type": "code",
   "execution_count": 8,
   "metadata": {},
   "outputs": [],
   "source": [
    "train_x, test_x = tf_idf(X_train,X_val)"
   ]
  },
  {
   "cell_type": "code",
   "execution_count": 10,
   "metadata": {},
   "outputs": [],
   "source": [
    "#train on baseline models\n",
    "\n",
    "import baseline\n",
    "\n",
    "models = baseline.Base_models(train_x, y_train, test_x, y_val)\n"
   ]
  },
  {
   "cell_type": "code",
   "execution_count": 12,
   "metadata": {},
   "outputs": [
    {
     "name": "stderr",
     "output_type": "stream",
     "text": [
      "/Users/monk/anaconda3/lib/python3.6/site-packages/sklearn/linear_model/logistic.py:432: FutureWarning: Default solver will be changed to 'lbfgs' in 0.22. Specify a solver to silence this warning.\n",
      "  FutureWarning)\n",
      "/Users/monk/anaconda3/lib/python3.6/site-packages/sklearn/linear_model/logistic.py:469: FutureWarning: Default multi_class will be changed to 'auto' in 0.22. Specify the multi_class option to silence this warning.\n",
      "  \"this warning.\", FutureWarning)\n",
      "/Users/monk/anaconda3/lib/python3.6/site-packages/sklearn/linear_model/logistic.py:432: FutureWarning: Default solver will be changed to 'lbfgs' in 0.22. Specify a solver to silence this warning.\n",
      "  FutureWarning)\n",
      "/Users/monk/anaconda3/lib/python3.6/site-packages/sklearn/linear_model/logistic.py:432: FutureWarning: Default solver will be changed to 'lbfgs' in 0.22. Specify a solver to silence this warning.\n",
      "  FutureWarning)\n"
     ]
    }
   ],
   "source": [
    "try:\n",
    "    result_a = models.BinaryRe()\n",
    "    with open('result.txt','a') as f:\n",
    "        \n",
    "        f.write(str({'model'  : 'BinaryRe', 'result' :  result_a}) + '\\n')\n",
    "except Exception as e:\n",
    "    with open('result.txt','a') as f:\n",
    "        f.write(str({'model'  : 'BinaryRe', 'result' :  e}) + '\\n')\n",
    "    \n",
    "try:\n",
    "    result_a = models.powerset()\n",
    "    with open('result.txt','a') as f:\n",
    "        f.write(str({'model'  : 'powerset', 'result' :  result_a}) + '\\n')\n",
    "except Exception as e:\n",
    "    with open('result.txt','a') as f:\n",
    "        f.write(str({'model'  : 'powerset', 'result' :  e})  + '\\n')\n",
    "        \n",
    "try:\n",
    "    result_a = models.mlknn()\n",
    "    with open('result.txt','a') as f:\n",
    "        f.write(str({'model'  : 'mlknn', 'result' :  result_a}) + '\\n')\n",
    "except Exception as e:\n",
    "    with open('result.txt','a') as f:\n",
    "        f.write(str({'model'  : 'mlknn', 'result' :  e}) + '\\n')\n",
    "        \n",
    "try:\n",
    "    result_a = models.classfier_chain()\n",
    "    with open('result.txt','a') as f:\n",
    "        f.write(str({'model'  : 'classfier_chain', 'result' :  result_a}) + '\\n')\n",
    "except Exception as e:\n",
    "    with open('result.txt','a') as f:\n",
    "        f.write(str({'model'  : 'classfier_chain', 'result' :  e}) + '\\n')"
   ]
  },
  {
   "cell_type": "code",
   "execution_count": null,
   "metadata": {},
   "outputs": [],
   "source": []
  },
  {
   "cell_type": "code",
   "execution_count": null,
   "metadata": {},
   "outputs": [],
   "source": []
  }
 ],
 "metadata": {
  "kernelspec": {
   "display_name": "Python 3",
   "language": "python",
   "name": "python3"
  },
  "language_info": {
   "codemirror_mode": {
    "name": "ipython",
    "version": 3
   },
   "file_extension": ".py",
   "mimetype": "text/x-python",
   "name": "python",
   "nbconvert_exporter": "python",
   "pygments_lexer": "ipython3",
   "version": "3.6.8"
  }
 },
 "nbformat": 4,
 "nbformat_minor": 2
}
