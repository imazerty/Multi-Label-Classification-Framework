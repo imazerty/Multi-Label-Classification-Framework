{
 "cells": [
  {
   "cell_type": "code",
   "execution_count": null,
   "metadata": {},
   "outputs": [],
   "source": [
    "from Baseline_models import *\n",
    "import pickle as pk"
   ]
  },
  {
   "cell_type": "code",
   "execution_count": null,
   "metadata": {},
   "outputs": [],
   "source": [
    "with open('../data/baseline_classical_train_x.pkl','rb') as f:\n",
    "    train_x = pk.load(f)\n",
    "\n",
    "with open('../data/baseline_classical_y_train.pkl','rb') as f:\n",
    "    y_train = pk.load(f)\n",
    "            \n",
    "with open('../data/baseline_classical_test_x.pkl','rb') as f:\n",
    "    test_x  = pk.load(f)\n",
    "            \n",
    "with open('../data/baseline_classical_y_val.pkl','rb') as f:\n",
    "    y_val  = pk.load(f)"
   ]
  },
  {
   "cell_type": "code",
   "execution_count": null,
   "metadata": {},
   "outputs": [],
   "source": [
    "models = Base_models(train_x, y_train, test_x, y_val)\n",
    "\n",
    "\n",
    "# In[12]:\n",
    "\n",
    "\n",
    "try:\n",
    "    result_a = models.BinaryRe()\n",
    "    with open('result.txt','a') as f:\n",
    "        \n",
    "        f.write(str({'model'  : 'BinaryRe', 'result' :  result_a}) + '\\n')\n",
    "except Exception as e:\n",
    "    with open('result.txt','a') as f:\n",
    "        f.write(str({'model'  : 'BinaryRe', 'result' :  e}) + '\\n')\n",
    "    \n",
    "try:\n",
    "    result_a = models.powerset()\n",
    "    with open('result.txt','a') as f:\n",
    "        f.write(str({'model'  : 'powerset', 'result' :  result_a}) + '\\n')\n",
    "except Exception as e:\n",
    "    with open('result.txt','a') as f:\n",
    "        f.write(str({'model'  : 'powerset', 'result' :  e})  + '\\n')\n",
    "        \n",
    "try:\n",
    "    result_a = models.mlknn()\n",
    "    with open('result.txt','a') as f:\n",
    "        f.write(str({'model'  : 'mlknn', 'result' :  result_a}) + '\\n')\n",
    "except Exception as e:\n",
    "    with open('result.txt','a') as f:\n",
    "        f.write(str({'model'  : 'mlknn', 'result' :  e}) + '\\n')\n",
    "        \n",
    "try:\n",
    "    result_a = models.classfier_chain()\n",
    "    with open('result.txt','a') as f:\n",
    "        f.write(str({'model'  : 'classfier_chain', 'result' :  result_a}) + '\\n')\n",
    "except Exception as e:\n",
    "    with open('result.txt','a') as f:\n",
    "        f.write(str({'model'  : 'classfier_chain', 'result' :  e}) + '\\n')"
   ]
  },
  {
   "cell_type": "code",
   "execution_count": null,
   "metadata": {},
   "outputs": [],
   "source": [
    "with open('../data/baseline_classical_train_x.pkl','rb') as f:\n",
    "    train_x = pk.load(f)\n",
    "\n",
    "with open('../data/baseline_classical_y_train.pkl','rb') as f:\n",
    "    y_train = pk.load(f)\n",
    "            \n",
    "with open('../data/baseline_classical_test_x.pkl','rb') as f:\n",
    "    test_x  = pk.load(f)\n",
    "            \n",
    "with open('../data/baseline_classical_y_val.pkl','rb') as f:\n",
    "    y_val  = pk.load(f)"
   ]
  },
  {
   "cell_type": "code",
   "execution_count": null,
   "metadata": {},
   "outputs": [],
   "source": [
    "train_x.shape"
   ]
  },
  {
   "cell_type": "code",
   "execution_count": null,
   "metadata": {},
   "outputs": [],
   "source": [
    "y_train.shape"
   ]
  },
  {
   "cell_type": "code",
   "execution_count": null,
   "metadata": {},
   "outputs": [],
   "source": [
    "test_x.shape"
   ]
  },
  {
   "cell_type": "code",
   "execution_count": 1,
   "metadata": {},
   "outputs": [],
   "source": [
    "import pickle as pk\n",
    "\n",
    "with open('../data/deep_learning_all_sentences.pkl' ,'rb') as f:\n",
    "    X_data = pk.load(f)\n",
    "\n",
    "with open('../data/deep_learning_all_labels.pkl'   ,'rb') as f:\n",
    "    y_data = pk.load(f)"
   ]
  },
  {
   "cell_type": "code",
   "execution_count": 2,
   "metadata": {},
   "outputs": [
    {
     "ename": "NameError",
     "evalue": "name 'np' is not defined",
     "output_type": "error",
     "traceback": [
      "\u001b[0;31m---------------------------------------------------------------------------\u001b[0m",
      "\u001b[0;31mNameError\u001b[0m                                 Traceback (most recent call last)",
      "\u001b[0;32m<ipython-input-2-f0b34b60a32d>\u001b[0m in \u001b[0;36m<module>\u001b[0;34m()\u001b[0m\n\u001b[0;32m----> 1\u001b[0;31m \u001b[0mnp\u001b[0m\u001b[0;34m.\u001b[0m\u001b[0marray\u001b[0m\u001b[0;34m(\u001b[0m\u001b[0mX_data\u001b[0m\u001b[0;34m)\u001b[0m\u001b[0;34m.\u001b[0m\u001b[0mshape\u001b[0m\u001b[0;34m\u001b[0m\u001b[0;34m\u001b[0m\u001b[0m\n\u001b[0m",
      "\u001b[0;31mNameError\u001b[0m: name 'np' is not defined"
     ]
    }
   ],
   "source": [
    "np.array(X_data).shape"
   ]
  },
  {
   "cell_type": "code",
   "execution_count": 3,
   "metadata": {},
   "outputs": [
    {
     "data": {
      "text/plain": [
       "('wheat', 283)"
      ]
     },
     "execution_count": 3,
     "metadata": {},
     "output_type": "execute_result"
    }
   ],
   "source": [
    "y_data"
   ]
  },
  {
   "cell_type": "code",
   "execution_count": null,
   "metadata": {},
   "outputs": [],
   "source": []
  }
 ],
 "metadata": {
  "kernelspec": {
   "display_name": "Python 3",
   "language": "python",
   "name": "python3"
  },
  "language_info": {
   "codemirror_mode": {
    "name": "ipython",
    "version": 3
   },
   "file_extension": ".py",
   "mimetype": "text/x-python",
   "name": "python",
   "nbconvert_exporter": "python",
   "pygments_lexer": "ipython3",
   "version": "3.6.8"
  }
 },
 "nbformat": 4,
 "nbformat_minor": 2
}
